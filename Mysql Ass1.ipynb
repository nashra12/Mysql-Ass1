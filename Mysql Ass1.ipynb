{
 "cells": [
  {
   "cell_type": "markdown",
   "id": "52574404-0c8f-48b2-9da9-b6250dd5e2a4",
   "metadata": {},
   "source": [
    "Q1: What is a database? Differentiate between SQL and NoSQL databases.\n",
    "\n",
    "A database is an organized collection of data, typically stored and accessed electronically. SQL databases use structured query language and have a fixed schema, suitable for complex queries and transactions. NoSQL databases are schema-less, handle unstructured data, and offer high scalability and flexibility for big data and real-time web applications.\n",
    "\n",
    "\n",
    "\n",
    "Q2: What is DDL? Explain why CREATE, DROP, ALTER, and TRUNCATE are used with an example.\n",
    "\n",
    "DDL (Data Definition Language) defines and manages database structures.\n",
    "\n",
    "    CREATE: Creates a new table or database.\n",
    "    DROP: Deletes a table or database.\n",
    "    ALTER: Modifies an existing table structure.\n",
    "    TRUNCATE: Removes all records from a table without deleting the table.\n",
    "    Example:\n",
    "    CREATE TABLE Students (ID INT, Name VARCHAR(50));\n",
    "ALTER TABLE Students ADD Age INT;\n",
    "TRUNCATE TABLE Students;\n",
    "DROP TABLE Students;\n"
   ]
  },
  {
   "cell_type": "markdown",
   "id": "d04ec014-f545-420d-b99a-b974fa1d973c",
   "metadata": {},
   "source": [
    "Q3: What is DML? Explain INSERT, UPDATE, and DELETE with an example.\n",
    "\n",
    "DML (Data Manipulation Language) manages data within database tables.\n",
    "\n",
    "    INSERT: Adds new records to a table.\n",
    "    UPDATE: Modifies existing records in a table.\n",
    "    DELETE: Removes records from a table.\n",
    "    Example:"
   ]
  },
  {
   "cell_type": "markdown",
   "id": "73e9a6ed-ab4c-4890-bea2-27826d53b418",
   "metadata": {},
   "source": [
    "INSERT INTO Students (ID, Name) VALUES (1, 'John');\n",
    "UPDATE Students SET Name = 'Jane' WHERE ID = 1;\n",
    "DELETE FROM Students WHERE ID = 1;\n"
   ]
  },
  {
   "cell_type": "markdown",
   "id": "f943f4ea-08a1-4d56-b7df-31a69d40d8a8",
   "metadata": {},
   "source": [
    "Q4: What is DQL? Explain SELECT with an example.\n",
    "\n",
    "DQL (Data Query Language) retrieves data from the database using the SELECT statement.\n",
    "Example:\n",
    "\n",
    "\n",
    "SELECT * FROM Students WHERE Age > 20;"
   ]
  },
  {
   "cell_type": "markdown",
   "id": "bba17526-fecb-4bbb-8f19-07427e8b22d4",
   "metadata": {},
   "source": [
    "Q5: Explain Primary Key and Foreign Key.\n",
    "\n",
    "A Primary Key is a unique identifier for each record in a table, ensuring no duplicate values. A Foreign Key links records between tables, establishing a relationship by referencing the Primary Key in another table.\n",
    "Q6: Write a python code to connect MySQL to python. Explain the cursor() and execute() method.\n",
    "\n",
    "import mysql.connector\n",
    "\n",
    "# Connect to the database\n",
    "conn = mysql.connector.connect(\n",
    "    host=\"localhost\",\n",
    "    user=\"yourusername\",\n",
    "    password=\"yourpassword\",\n",
    "    database=\"yourdatabase\"\n",
    ")\n",
    "\n",
    "# Create a cursor object\n",
    "cursor = conn.cursor()\n",
    "\n",
    "# Execute a query\n",
    "cursor.execute(\"SELECT * FROM Students\")\n",
    "\n",
    "# Fetch and print the result\n",
    "result = cursor.fetchall()\n",
    "for row in result:\n",
    "    print(row)\n",
    "\n",
    "# Close the connection\n",
    "conn.close()\n"
   ]
  },
  {
   "cell_type": "markdown",
   "id": "a7442105-f052-49c8-bfc5-4b632e15c323",
   "metadata": {},
   "source": [
    "Q7: Give the order of execution of SQL clauses in an SQL query.\n",
    "\n",
    "    FROM: Specifies the tables to retrieve data from.\n",
    "    JOIN: Joins tables based on a condition.\n",
    "    WHERE: Filters records based on a condition.\n",
    "    GROUP BY: Groups records based on one or more columns.\n",
    "    HAVING: Filters groups based on a condition.\n",
    "    SELECT: Specifies the columns to be retrieved.\n",
    "    ORDER BY: Sorts the result set.\n",
    "    LIMIT: Limits the number of rows returned."
   ]
  },
  {
   "cell_type": "code",
   "execution_count": null,
   "id": "f4091ed6-7fb0-470f-8046-bff6f16decbf",
   "metadata": {},
   "outputs": [],
   "source": []
  }
 ],
 "metadata": {
  "kernelspec": {
   "display_name": "Python 3 (ipykernel)",
   "language": "python",
   "name": "python3"
  },
  "language_info": {
   "codemirror_mode": {
    "name": "ipython",
    "version": 3
   },
   "file_extension": ".py",
   "mimetype": "text/x-python",
   "name": "python",
   "nbconvert_exporter": "python",
   "pygments_lexer": "ipython3",
   "version": "3.10.8"
  }
 },
 "nbformat": 4,
 "nbformat_minor": 5
}
